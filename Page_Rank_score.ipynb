{
  "nbformat": 4,
  "nbformat_minor": 0,
  "metadata": {
    "coursera": {
      "course_slug": "linear-algebra-machine-learning",
      "graded_item_id": "Sfbnp",
      "launcher_item_id": "aPxf3"
    },
    "kernelspec": {
      "display_name": "Python 3",
      "language": "python",
      "name": "python3"
    },
    "language_info": {
      "codemirror_mode": {
        "name": "ipython",
        "version": 3
      },
      "file_extension": ".py",
      "mimetype": "text/x-python",
      "name": "python",
      "nbconvert_exporter": "python",
      "pygments_lexer": "ipython3",
      "version": "3.6.2"
    },
    "colab": {
      "name": "Page_Rank_score.ipynb",
      "provenance": [],
      "collapsed_sections": []
    }
  },
  "cells": [
    {
      "cell_type": "code",
      "metadata": {
        "colab": {
          "base_uri": "https://localhost:8080/"
        },
        "id": "aUiD_8-fNGru",
        "outputId": "7a9c5a3a-076d-4788-a01d-af41301fb14c"
      },
      "source": [
        "%pylab notebook\n",
        "import numpy as np\n",
        "import numpy.linalg as la\n",
        "import pandas as pd\n",
        "\n",
        "np.set_printoptions(suppress=True)\n"
      ],
      "execution_count": 1,
      "outputs": [
        {
          "output_type": "stream",
          "text": [
            "Populating the interactive namespace from numpy and matplotlib\n"
          ],
          "name": "stdout"
        }
      ]
    },
    {
      "cell_type": "code",
      "metadata": {
        "colab": {
          "base_uri": "https://localhost:8080/"
        },
        "id": "OZPeQnhZZWaA",
        "outputId": "6fc5d9c6-9ee9-46fe-c86d-1d00032de2c3"
      },
      "source": [
        "def add_vertex(v):\n",
        "  global graph\n",
        "  global vertices_no\n",
        "  global vertices\n",
        "  if v in vertices:\n",
        "    print(\"Vertex \", v, \" already exists\")\n",
        "  else:\n",
        "    vertices_no = vertices_no + 1\n",
        "    vertices.append(v)\n",
        "    if vertices_no > 1:\n",
        "        for vertex in graph:\n",
        "            vertex.append(0)\n",
        "    temp = []\n",
        "    for i in range(vertices_no):\n",
        "        temp.append(0)\n",
        "    graph.append(temp)\n",
        "\n",
        "\n",
        "def add_edge(v1, v2, e):\n",
        "    global graph\n",
        "    global vertices_no\n",
        "    global vertices\n",
        "    \n",
        "    if v1 not in vertices:\n",
        "        print(\"Vertex \", v1, \" does not exist.\")\n",
        "    \n",
        "    elif v2 not in vertices:\n",
        "        print(\"Vertex \", v2, \" does not exist.\")\n",
        "    \n",
        "    else:\n",
        "        index1 = vertices.index(v1)\n",
        "        index2 = vertices.index(v2)\n",
        "        graph[index1][index2] = e\n",
        "\n",
        "\n",
        "def print_graph():\n",
        "  global graph\n",
        "  global vertices_no\n",
        "  for i in range(vertices_no):\n",
        "    for j in range(vertices_no):\n",
        "      if graph[i][j] != 0:\n",
        "        print(vertices[i], \" -> \", vertices[j], \\\n",
        "        \" edge weight: \", graph[i][j])\n",
        "\n",
        "\n",
        "vertices = []\n",
        "\n",
        "vertices_no = 0\n",
        "graph = []\n",
        "\n",
        "add_vertex(1)\n",
        "add_vertex(2)\n",
        "add_vertex(3)\n",
        "add_vertex(4)\n",
        "add_vertex(5)\n",
        "\n",
        "\n",
        "add_edge(1\t,1\t,1)\n",
        "add_edge(2\t,1\t,1/4)\n",
        "add_edge(2\t,2\t,1/4)\n",
        "add_edge(2\t,4, 1/4)\n",
        "add_edge(2\t,5\t,1/4)\n",
        "add_edge(3\t,1\t,1/3)\n",
        "add_edge(3\t,2\t,1/3)\n",
        "add_edge(3\t,5\t,1/3)\n",
        "add_edge(4\t,1\t,1/2)\n",
        "add_edge(4\t,5\t,1/2)\n",
        "add_edge(5\t,1\t,1/3)\n",
        "add_edge(5\t,2\t,1/3)\n",
        "add_edge(5\t,5\t,1/3)\n",
        "\n",
        "\n",
        "\n",
        "\n",
        "\n",
        "\n",
        "\n",
        "\n",
        "\n",
        "\n",
        "print_graph()\n",
        "print(\"Internal representation: \", graph)"
      ],
      "execution_count": 2,
      "outputs": [
        {
          "output_type": "stream",
          "text": [
            "1  ->  1  edge weight:  1\n",
            "2  ->  1  edge weight:  0.25\n",
            "2  ->  2  edge weight:  0.25\n",
            "2  ->  4  edge weight:  0.25\n",
            "2  ->  5  edge weight:  0.25\n",
            "3  ->  1  edge weight:  0.3333333333333333\n",
            "3  ->  2  edge weight:  0.3333333333333333\n",
            "3  ->  5  edge weight:  0.3333333333333333\n",
            "4  ->  1  edge weight:  0.5\n",
            "4  ->  5  edge weight:  0.5\n",
            "5  ->  1  edge weight:  0.3333333333333333\n",
            "5  ->  2  edge weight:  0.3333333333333333\n",
            "5  ->  5  edge weight:  0.3333333333333333\n",
            "Internal representation:  [[1, 0, 0, 0, 0], [0.25, 0.25, 0, 0.25, 0.25], [0.3333333333333333, 0.3333333333333333, 0, 0, 0.3333333333333333], [0.5, 0, 0, 0, 0.5], [0.3333333333333333, 0.3333333333333333, 0, 0, 0.3333333333333333]]\n"
          ],
          "name": "stdout"
        }
      ]
    },
    {
      "cell_type": "code",
      "metadata": {
        "colab": {
          "base_uri": "https://localhost:8080/"
        },
        "id": "1NQBW-lih7J8",
        "outputId": "96ad5dbd-73c6-4c94-9d8c-4254c1504d9c"
      },
      "source": [
        "print(graph)"
      ],
      "execution_count": 3,
      "outputs": [
        {
          "output_type": "stream",
          "text": [
            "[[1, 0, 0, 0, 0], [0.25, 0.25, 0, 0.25, 0.25], [0.3333333333333333, 0.3333333333333333, 0, 0, 0.3333333333333333], [0.5, 0, 0, 0, 0.5], [0.3333333333333333, 0.3333333333333333, 0, 0, 0.3333333333333333]]\n"
          ],
          "name": "stdout"
        }
      ]
    },
    {
      "cell_type": "code",
      "metadata": {
        "collapsed": true,
        "id": "gJBZAYfQNGrw",
        "colab": {
          "base_uri": "https://localhost:8080/"
        },
        "outputId": "fce6b131-e24e-4edd-cab3-e19d55cb6d0f"
      },
      "source": [
        "L2 = np.array(graph)\n",
        "L = L2.transpose()\n",
        "print(L)"
      ],
      "execution_count": 4,
      "outputs": [
        {
          "output_type": "stream",
          "text": [
            "[[1.         0.25       0.33333333 0.5        0.33333333]\n",
            " [0.         0.25       0.33333333 0.         0.33333333]\n",
            " [0.         0.         0.         0.         0.        ]\n",
            " [0.         0.25       0.         0.         0.        ]\n",
            " [0.         0.25       0.33333333 0.5        0.33333333]]\n"
          ],
          "name": "stdout"
        }
      ]
    },
    {
      "cell_type": "code",
      "metadata": {
        "colab": {
          "base_uri": "https://localhost:8080/"
        },
        "id": "CnawG81_NGrx",
        "outputId": "d963cd7d-6af6-4a19-accc-e87db3177d35"
      },
      "source": [
        "eVals, eVecs = la.eig(L)\n",
        "order = np.absolute(eVals).argsort()[::-1]\n",
        "eVals = eVals[order]\n",
        "eVecs = eVecs[:,order]\n",
        "\n",
        "r = eVecs[:, 0]\n",
        "100 * np.real(r / np.sum(r))"
      ],
      "execution_count": 5,
      "outputs": [
        {
          "output_type": "execute_result",
          "data": {
            "text/plain": [
              "array([100.,   0.,   0.,   0.,   0.])"
            ]
          },
          "metadata": {
            "tags": []
          },
          "execution_count": 5
        }
      ]
    },
    {
      "cell_type": "code",
      "metadata": {
        "colab": {
          "base_uri": "https://localhost:8080/"
        },
        "id": "WNf60IWJNGry",
        "outputId": "bff22394-d64f-47dc-aa8a-dd116fdece37"
      },
      "source": [
        "r = 100 * np.ones(5) / 5\n",
        "r "
      ],
      "execution_count": 6,
      "outputs": [
        {
          "output_type": "execute_result",
          "data": {
            "text/plain": [
              "array([20., 20., 20., 20., 20.])"
            ]
          },
          "metadata": {
            "tags": []
          },
          "execution_count": 6
        }
      ]
    },
    {
      "cell_type": "code",
      "metadata": {
        "colab": {
          "base_uri": "https://localhost:8080/"
        },
        "id": "Iy8nGkx8NGr0",
        "outputId": "0252025e-3b12-460f-b0af-dcf165b17e80"
      },
      "source": [
        "r = L @ r \n",
        "r "
      ],
      "execution_count": 7,
      "outputs": [
        {
          "output_type": "execute_result",
          "data": {
            "text/plain": [
              "array([48.33333333, 18.33333333,  0.        ,  5.        , 28.33333333])"
            ]
          },
          "metadata": {
            "tags": []
          },
          "execution_count": 7
        }
      ]
    },
    {
      "cell_type": "code",
      "metadata": {
        "colab": {
          "base_uri": "https://localhost:8080/"
        },
        "id": "DZeb9lU5NGr2",
        "outputId": "99674e05-d152-4b48-de17-b46388f7bff9"
      },
      "source": [
        "r = 100 * np.ones(5) / 5\n",
        "lastR = r\n",
        "r = L @ r\n",
        "i = 0\n",
        "while la.norm(lastR - r) > 0.01 :\n",
        "    lastR = r\n",
        "    r = L @ r\n",
        "    i += 1\n",
        "print(str(i) + \" iterations to convergence.\")\n",
        "r\n",
        "\n",
        "\n",
        "\n"
      ],
      "execution_count": 8,
      "outputs": [
        {
          "output_type": "stream",
          "text": [
            "21 iterations to convergence.\n"
          ],
          "name": "stdout"
        },
        {
          "output_type": "execute_result",
          "data": {
            "text/plain": [
              "array([99.98647906,  0.00511198,  0.        ,  0.00189381,  0.00651515])"
            ]
          },
          "metadata": {
            "tags": []
          },
          "execution_count": 8
        }
      ]
    },
    {
      "cell_type": "code",
      "metadata": {
        "colab": {
          "base_uri": "https://localhost:8080/"
        },
        "id": "fyhHBNiiSTTL",
        "outputId": "64a3f86f-c038-4f68-8da7-d20a8e9e8e04"
      },
      "source": [
        "print(f'NumPy Array:\\n{r}')\n",
        "\n",
        "list1 = r.tolist()\n",
        "print(f'List: {list1}')\n"
      ],
      "execution_count": 9,
      "outputs": [
        {
          "output_type": "stream",
          "text": [
            "NumPy Array:\n",
            "[99.98647906  0.00511198  0.          0.00189381  0.00651515]\n",
            "List: [99.98647906070494, 0.005111979991296032, 0.0, 0.0018938053348301395, 0.006515153968944105]\n"
          ],
          "name": "stdout"
        }
      ]
    },
    {
      "cell_type": "code",
      "metadata": {
        "colab": {
          "base_uri": "https://localhost:8080/"
        },
        "id": "zxluvgaqfY2n",
        "outputId": "e384e95c-c7ff-4571-e7f8-b4cc2a8f773d"
      },
      "source": [
        "score = list1[4]\n",
        "print(score)\n"
      ],
      "execution_count": 10,
      "outputs": [
        {
          "output_type": "stream",
          "text": [
            "0.006515153968944105\n"
          ],
          "name": "stdout"
        }
      ]
    },
    {
      "cell_type": "code",
      "metadata": {
        "id": "cfKgfkOvgvFW"
      },
      "source": [
        "list1.append(score)"
      ],
      "execution_count": 11,
      "outputs": []
    },
    {
      "cell_type": "code",
      "metadata": {
        "id": "lEqe7b0FS73q"
      },
      "source": [
        "\n",
        "\n",
        "from csv import writer\n",
        "  \n",
        " \n",
        "\n",
        "  \n",
        "\n",
        "with open('/content/sample3.csv', 'a') as f_object:\n",
        "  \n",
        "    \n",
        "    writer_object = writer(f_object)\n",
        "  \n",
        "    \n",
        "    writer_object.writerow(list1)\n",
        "\n",
        "    f_object.close()"
      ],
      "execution_count": 12,
      "outputs": []
    },
    {
      "cell_type": "code",
      "metadata": {
        "colab": {
          "base_uri": "https://localhost:8080/",
          "height": 49
        },
        "id": "H3srATidW9OX",
        "outputId": "4f430ced-28ad-4860-adab-0ce56cd57659"
      },
      "source": [
        "dataset = pd.read_csv(\"/content/sample3.csv\")\n",
        "dataset"
      ],
      "execution_count": 13,
      "outputs": [
        {
          "output_type": "execute_result",
          "data": {
            "text/html": [
              "<div>\n",
              "<style scoped>\n",
              "    .dataframe tbody tr th:only-of-type {\n",
              "        vertical-align: middle;\n",
              "    }\n",
              "\n",
              "    .dataframe tbody tr th {\n",
              "        vertical-align: top;\n",
              "    }\n",
              "\n",
              "    .dataframe thead th {\n",
              "        text-align: right;\n",
              "    }\n",
              "</style>\n",
              "<table border=\"1\" class=\"dataframe\">\n",
              "  <thead>\n",
              "    <tr style=\"text-align: right;\">\n",
              "      <th></th>\n",
              "      <th>99.98647906070494</th>\n",
              "      <th>0.005111979991296032</th>\n",
              "      <th>0.0</th>\n",
              "      <th>0.0018938053348301395</th>\n",
              "      <th>0.006515153968944105</th>\n",
              "      <th>0.006515153968944105.1</th>\n",
              "    </tr>\n",
              "  </thead>\n",
              "  <tbody>\n",
              "  </tbody>\n",
              "</table>\n",
              "</div>"
            ],
            "text/plain": [
              "Empty DataFrame\n",
              "Columns: [99.98647906070494, 0.005111979991296032, 0.0, 0.0018938053348301395, 0.006515153968944105, 0.006515153968944105.1]\n",
              "Index: []"
            ]
          },
          "metadata": {
            "tags": []
          },
          "execution_count": 13
        }
      ]
    }
  ]
}