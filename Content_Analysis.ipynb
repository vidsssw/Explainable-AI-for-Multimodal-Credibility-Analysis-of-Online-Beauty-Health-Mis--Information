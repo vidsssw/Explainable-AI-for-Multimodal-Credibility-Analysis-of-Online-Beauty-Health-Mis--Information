{
  "nbformat": 4,
  "nbformat_minor": 0,
  "metadata": {
    "colab": {
      "name": "Content_Analysis.ipynb",
      "provenance": [],
      "collapsed_sections": []
    },
    "kernelspec": {
      "name": "python3",
      "display_name": "Python 3"
    },
    "language_info": {
      "name": "python"
    }
  },
  "cells": [
    {
      "cell_type": "code",
      "metadata": {
        "colab": {
          "base_uri": "https://localhost:8080/"
        },
        "id": "810wgKvN-wZg",
        "outputId": "f4b71cfb-486b-4b24-c9d5-e9c65d21f1ba"
      },
      "source": [
        "import pandas\n",
        "import nltk\n",
        "from nltk.corpus import stopwords\n",
        "nltk.download('stopwords')"
      ],
      "execution_count": 20,
      "outputs": [
        {
          "output_type": "stream",
          "text": [
            "[nltk_data] Downloading package stopwords to /root/nltk_data...\n",
            "[nltk_data]   Package stopwords is already up-to-date!\n"
          ],
          "name": "stdout"
        },
        {
          "output_type": "execute_result",
          "data": {
            "text/plain": [
              "True"
            ]
          },
          "metadata": {
            "tags": []
          },
          "execution_count": 20
        }
      ]
    },
    {
      "cell_type": "code",
      "metadata": {
        "colab": {
          "base_uri": "https://localhost:8080/"
        },
        "id": "-K3Or7l2Bwws",
        "outputId": "717deb56-4859-45a9-8bdc-247ed584ad7d"
      },
      "source": [
        "f = open(\"/content/drive/My Drive/wordlist.txt\",'r')\n",
        "content = f.read().split()\n",
        "print(len(content))"
      ],
      "execution_count": 21,
      "outputs": [
        {
          "output_type": "stream",
          "text": [
            "98123\n"
          ],
          "name": "stdout"
        }
      ]
    },
    {
      "cell_type": "code",
      "metadata": {
        "colab": {
          "base_uri": "https://localhost:8080/"
        },
        "id": "C9Dwb-vmSvGO",
        "outputId": "72bc41d8-c51c-46f3-e948-09c05ff04036"
      },
      "source": [
        "h = open(\"/content/drive/My Drive/vocab.txt\",'r')\n",
        "vocab = h.read().split()\n",
        "print(len(vocab))"
      ],
      "execution_count": 22,
      "outputs": [
        {
          "output_type": "stream",
          "text": [
            "30522\n"
          ],
          "name": "stdout"
        }
      ]
    },
    {
      "cell_type": "code",
      "metadata": {
        "id": "xCxguCzDEMmb"
      },
      "source": [
        "original_text = \"\"\"If your doctor recommends it, there are ways to lose weight safely. A steady weight loss of 1 to 2 pounds per week is recommended for the most effective long-term weight management. That said, many eating plans leave you feeling hungry or unsatisfied. These are major reasons why you might find it hard to stick to a healthier eating plan.\n",
        "However, not all diets have this effect. Low carb diets and whole food, lower calorie diets are effective for weight loss and may be easier to stick to than other diets.\n",
        "\n",
        "Here are some ways to lose weight that employ healthy eating, potentially lower carbs, and that aim to:\n",
        "\n",
        "reduce your appetite\n",
        "cause fast weight loss\n",
        "improve your metabolic health at the same time. 1. Cut back on refined carbs\n",
        "One way to lose weight quickly is to cut back on sugars and starches, or carbohydrates. This could be with a low carb eating plan or by reducing refined carbs and replacing them with whole grains.\n",
        "\n",
        "When you do that, your hunger levels go down, and you generally end up eating fewer calories (1).\n",
        "\n",
        "With a low carb eating plan, you’ll utilize burning stored fat for energy instead of carbs.\n",
        "\n",
        "If you choose to eat more complex carbs like whole grains along with a calorie deficit, you’ll benefit from higher fiber and digest them more slowly. This makes them more filling to keep you satisfied.\n",
        "\n",
        "A 2020 study confirmed that a very low carbohydrate diet was beneficial for losing weight in older populations (2).\n",
        "\n",
        "Research also suggests that a low carb diet can reduce appetite, which may lead to eating fewer calories without thinking about it or feeling hungry (3).\n",
        "\n",
        "Note that the long-term effects of a low carb diet are still being researched. It can also be difficult to adhere to a low carb diet, which may lead to yo-yo dieting and less success in maintaining a healthy weight.\n",
        "\n",
        "There are potential downsides to a low carb diet that may lead you to a different method. Reduced calorie diets can also lead to weight loss and be easier to maintain for longer periods of time.\n",
        "\n",
        "If you opt for a diet focusing instead on whole grains over refined carbs, a 2019 study correlated high whole grain with lower body mass index (BMI) (4Trusted Source).\n",
        "\n",
        "To determine the best way for you to lose weight, consult your doctor for recommendations.2. Eat protein, fat, and vegetables\n",
        "Each one of your meals should include:\n",
        "\n",
        "a protein source\n",
        "fat source\n",
        "vegetables\n",
        "a small portion of complex carbohydrates, such as whole grains\n",
        "To see how you can assemble your meals, check out:\n",
        "\n",
        "this low carb meal plan\n",
        "this lower calorie meal plan\n",
        "these lists of 101 healthy low carb recipes and low calorie foods\n",
        "Protein\n",
        "Eating a recommended amount of protein is essential to help preserve your health and muscle mass while losing weight (5Trusted Source).\n",
        "\n",
        "Evidence suggests that eating adequate protein may improve cardiometabolic risk factors, appetite, and body weight, (6Trusted Source, 7Trusted Source, 8Trusted Source).\n",
        "\n",
        "Here’s how to determine how much you need to eat without eating too much. Many factors determine your specific needs, but generally, an average person needs (9Trusted Source):\n",
        "\n",
        "56–91 grams per day for the average male\n",
        "46–75 grams per day for the average female\n",
        "Diets with adequate protein can also help:\n",
        "\n",
        "reduce cravings and obsessive thoughts about food by 60%\n",
        "reduce the desire to snack late at night by half\n",
        "make you feel full\n",
        "In one study, people on a higher protein diet ate 441 fewer calories per day (10Trusted Source, 11Trusted Source).\n",
        "\n",
        "Healthy protein sources include:\n",
        "meat: beef, chicken, pork, and lamb\n",
        "fish and seafood: salmon, trout, and shrimp\n",
        "eggs: whole eggs with the yolk\n",
        "plant-based proteins: beans, legumes, quinoa, tempeh, and tofu\n",
        "Low carb and leafy green vegetables\n",
        "Don’t be afraid to load your plate with leafy green vegetables. They’re packed with nutrients, and you can eat very large amounts without greatly increasing calories and carbs.\n",
        "\n",
        "Vegetables to include for low carb or low calorie eating plans:\n",
        "broccoli\n",
        "cauliflower\n",
        "spinach\n",
        "tomatoes\n",
        "kale\n",
        "Brussels sprouts\n",
        "cabbage\n",
        "Swiss chard\n",
        "lettuce\n",
        "cucumber\n",
        "Healthy fats\n",
        "Don’t be afraid of eating fats.\n",
        "\n",
        "Your body still requires healthy fats no matter what eating plan you choose. Olive oil and avocado oil are great choices for including in your eating plan.\n",
        "\n",
        "Other fats such as butter and coconut oil should be used only in moderation due to their higher saturated fat content (12Trusted Source).\n",
        "\n",
        "SUMMARY\n",
        "Assemble each meal out of a protein source, healthy fat source, complex carb, and vegetables.\n",
        "\n",
        "Leafy green vegetables are a great way to bulk up a meal with low calories and lots of nutrients.\n",
        "\n",
        "3. Move your body\n",
        "Exercise, while not required to lose weight, can help you lose weight more quickly. Lifting weights has particularly good benefits.\n",
        "\n",
        "By lifting weights, you’ll burn lots of calories and prevent your metabolism from slowing down, which is a common side effect of losing weight (13, 14Trusted Source, 15Trusted Source).\n",
        "\n",
        "Try going to the gym three to four times a week to lift weights. If you’re new to the gym, ask a trainer for some advice. Make sure your doctor is also aware of any new exercise plans.\n",
        "\n",
        "If lifting weights is not an option for you, doing some cardio workouts such as walking, jogging, running, cycling, or swimming is very beneficial for weight loss and general health.\n",
        "\n",
        "Both cardio and weightlifting can help with weight loss.\n",
        "\n",
        "SUMMARY\n",
        "Resistance training, such as weightlifting, is a great option for losing weight. If that’s not possible, cardio workouts are also effective.\n",
        "\n",
        "Choose what’s sustainable for you.\n",
        "\n",
        "ADVERTISEMENT\n",
        "Start a custom weight loss program\n",
        "Noom helps you adopt healthy habits so you can lose weight and keep it off. Your program is customized to your goals and fitness needs. Just take a quick assessment and get started today.\n",
        "\n",
        "What about calories and portion control?\n",
        "If you opt for a low carb eating plan, it’s not necessary to count calories as long as you keep your carb intake very low and stick to protein, fat, and low carb vegetables.\n",
        "\n",
        "If you find yourself not losing weight, you may want to keep track of your calories to see if that’s a contributing factor.\n",
        "\n",
        "If you’re sticking to a calorie deficit to lose weight, you can use a free online calculator like this one.\n",
        "\n",
        "Enter your sex, weight, height, and activity levels. The calculator will tell you how many calories to eat per day to maintain your weight, lose weight, or lose weight fast.\n",
        "\n",
        "You can also download free, easy-to-use calorie counters from websites and app stores. Here’s a list of 5 calorie counters to try.\n",
        "\n",
        "Note that eating too few calories can be dangerous and less effective for losing weight. Aim to reduce your calories by a sustainable and healthy amount based on your doctor’s recommendation.\n",
        "\n",
        "SUMMARY\n",
        "Counting calories isn’t usually needed to lose weight on a low carb eating plan. But if you’re not losing weight or on a reduced calorie eating plan, calorie counting may help.\n",
        "\n",
        "9 weight loss tips\n",
        "Here are 9 more tips to lose weight faster:\n",
        "\n",
        "Eat a high protein breakfast. Eating a high protein breakfast could help reduce cravings and calorie intake throughout the day (16Trusted Source, 17Trusted Source).\n",
        "Avoid sugary drinks and fruit juice. Empty calories from sugar aren’t useful to your body and can hinder weight loss (18Trusted Source, 19).\n",
        "Drink water before meals. One study showed that drinking water before meals reduced calorie intake and may be effective in weight management (20Trusted Source).\n",
        "Choose weight-loss-friendly foods. Some foods are better for weight loss than others. Here is a list of healthy weight-loss-friendly foods.\n",
        "Eat soluble fiber. Studies show that soluble fibers may promote weight loss. Fiber supplements like glucomannan can also help (21Trusted Source, 22Trusted Source, 23).\n",
        "Drink coffee or tea. Caffeine consumption can boost your metabolism (24Trusted Source, 25).\n",
        "Base your diet on whole foods. They’re healthier, more filling, and much less likely to cause overeating than processed foods.\n",
        "Eat slowly. Eating quickly can lead to weight gain over time, while eating slowly makes you feel more full and boosts weight-reducing hormones (26Trusted Source).\n",
        "Get good quality sleep. Sleep is important for many reasons, and poor sleep is one of the biggest risk factors for weight gain (27, 28, 29).\n",
        "For more tips on weight loss, read about natural tips for losing weight here.\n",
        "\n",
        "SUMMARY\n",
        "Eating whole foods, higher protein, soluble fiber, and less sugar can help you lose more weight. Don’t forget to get a good night’s sleep, too.\n",
        "\n",
        "Sample meal ideas for fast weight loss\n",
        "These sample meal plans are low carb, which limits carbs to 20–50 carbs per day. Each meal should have protein, healthy fats, and veggies.\n",
        "\n",
        "If you’d prefer to lose weight while still eating complex carbs, add in some healthy whole grains such as:\n",
        "\n",
        "quinoa\n",
        "whole oats\n",
        "whole wheat\n",
        "bran\n",
        "rye\n",
        "barley\n",
        "Breakfast ideas\n",
        "poached egg with sliced avocado and a side of berries\n",
        "spinach, mushroom, and feta crustless quiche\n",
        "green smoothie with spinach, avocado, and nut milk and a side of cottage cheese\n",
        "unsweetened Greek yogurt with berries and almonds\n",
        "Lunch ideas\n",
        "smoked salmon with avocado and a side of asparagus\n",
        "lettuce wrap with grilled chicken, black beans, red pepper, and salsa\n",
        "kale and spinach salad with grilled tofu, chickpeas, and guacamole\n",
        "BLT wrap with celery sticks and peanut butter\n",
        "Dinner ideas\n",
        "enchilada salad with chicken, peppers, mango, avocado, and spices\n",
        "ground turkey bake with mushrooms, onions, peppers, and cheese\n",
        "antipasto salad with white beans, asparagus, cucumbers, olive oil, and Parmesan\n",
        "roasted cauliflower with tempeh, Brussels sprouts, and pine nuts\n",
        "salmon baked with ginger, sesame oil, and roasted zucchini\n",
        "Snack ideas\n",
        "cauliflower hummus and veggies\n",
        "healthy homemade trail mix with nuts and dried fruit\n",
        "kale chips\n",
        "cottage cheese with cinnamon and flaxseeds\n",
        "spicy roasted chickpeas\n",
        "roasted pumpkin seeds\n",
        "tuna pouches\n",
        "steamed edamame\n",
        "strawberries and brie\n",
        "How fast will you lose weight?\n",
        "You may lose 5–10 pounds (2.3–4.5 kg) of weight — sometimes more — in the first week of a diet plan and then lose weight consistently after that. The first week is usually a loss of both body fat and water weight.\n",
        "\n",
        "If you’re new to dieting, weight loss may happen more quickly. The more weight you have to lose, the faster you’ll lose it.\n",
        "\n",
        "Unless your doctor suggests otherwise, losing 1–2 pounds per week is usually a safe amount. If you’re trying to lose weight faster than that, speak to your doctor about a safe level of calorie reduction.\n",
        "\n",
        "Aside from weight loss, a low carb diet can improve your health in a few ways, though the long-term effects are not yet known:\n",
        "\n",
        "blood sugar levels tend to significantly decrease on low carb diets (30)\n",
        "triglycerides tend to go down (31)\n",
        "LDL (bad) cholesterol goes down (32Trusted Source)\n",
        "blood pressure improves significantly (33Trusted Source)\n",
        "Other diet types that reduce calories and increase whole foods are also associated with improved metabolic markers and slower aging (34, 35Trusted Source, 36Trusted Source). Ultimately, you may find a more balanced diet that includes complex carbohydrates is more sustainable.\n",
        "\n",
        "SUMMARY\n",
        "Significant weight can be lost on a low carb or low calorie diet, but the speed depends on the individual.\n",
        "\n",
        "General weight loss can improve certain markers of health, such as blood sugar and cholesterol levels.\n",
        "\n",
        "The bottom line\n",
        "By reducing carbs or replacing refined carbs with complex carbs, you’ll likely experience reduced appetite and hunger. This removes the main reasons it’s often difficult to maintain a weight loss plan.\n",
        "\n",
        "With a sustainable low carb or lower calorie eating plan, you can eat healthy food until you’re full and still lose a significant amount of fat.\n",
        "\n",
        "The initial drop in water weight can lead to a drop in the scales within a few days. Fat loss takes longer.\n",
        "\n",
        "Read this article in Spanish.\n",
        "\n",
        "Last medically reviewed on October 28, 2020\n",
        "\n",
        "Written by Kris Gunnars, BSc — Medically reviewed by Katherine Marengo LDN, R.D. — Updated on October 29, 2020\n",
        "More in Getting Healthy Around Food, Weight, and Stress\n",
        "23 Healthy New Year’s Resolutions You Can Actually Keep\n",
        "Emotional Eating: What You Should Know\n",
        "Your Anxiety Loves Sugar. Eat These 3 Things Instead \"\"\""
      ],
      "execution_count": 52,
      "outputs": []
    },
    {
      "cell_type": "markdown",
      "metadata": {
        "id": "5okdbraGZMCn"
      },
      "source": [
        "***Checking Technical Terms***"
      ]
    },
    {
      "cell_type": "code",
      "metadata": {
        "id": "LIfGrQK7G_-W"
      },
      "source": [
        "import string,re\n",
        "def pre_process(i):\n",
        "    i = re.compile(r'<[^>]+>').sub('',i)\n",
        "    i = re.sub(r\"\\s+[a-zA-Z]\\s+\", ' ', i)\n",
        "    i = re.sub(r\"([0-9]+)\", ' ', i)\n",
        "    table = str.maketrans(dict.fromkeys(string.punctuation))\n",
        "    i = i.translate(table)\n",
        "    i = re.sub(r'\\s+', ' ', i)\n",
        "    return i"
      ],
      "execution_count": 23,
      "outputs": []
    },
    {
      "cell_type": "code",
      "metadata": {
        "id": "3UuH4ZwlHDGT"
      },
      "source": [
        "stopwords = stopwords.words('english')\n",
        "def remove_stopwords(text):\n",
        "    clean_text=' '.join([word for word in text.split() if word not in stopwords])\n",
        "    return clean_text"
      ],
      "execution_count": 24,
      "outputs": []
    },
    {
      "cell_type": "code",
      "metadata": {
        "id": "2uJI7r6yIKdV"
      },
      "source": [
        "def unique_list(l):\n",
        "    ulist = []\n",
        "    [ulist.append(x) for x in l if x not in ulist]\n",
        "    return ulist"
      ],
      "execution_count": 25,
      "outputs": []
    },
    {
      "cell_type": "code",
      "metadata": {
        "id": "8ZYGkR0dn-QE"
      },
      "source": [
        "def domain(original_text):\n",
        "  text = pre_process(original_text.lower())\n",
        "  text = remove_stopwords(text.lower())\n",
        "  text = unique_list(text.split())\n",
        "  score = 0\n",
        "  words = len(text)\n",
        "  for i in text:\n",
        "    if i in content:\n",
        "      score+=1\n",
        "  domain_score = round(score*10/words,ndigits=2)\n",
        "  return domain_score"
      ],
      "execution_count": 53,
      "outputs": []
    },
    {
      "cell_type": "markdown",
      "metadata": {
        "id": "U5CXB5IrZcVJ"
      },
      "source": [
        "***Checking Special Characters***"
      ]
    },
    {
      "cell_type": "code",
      "metadata": {
        "colab": {
          "base_uri": "https://localhost:8080/"
        },
        "id": "yY5mgrpFYMAo",
        "outputId": "dd356e40-b2f4-41ec-d358-56660fa7912c"
      },
      "source": [
        "def special(original_text):\n",
        "  special_characters = ['!', '#', '$', '%', '*', '+', '-', '?', '@']\n",
        "  no_special = 0\n",
        "  no_words = len(original_text.split())\n",
        "  for i in original_text.split():\n",
        "    if any(i.split()) in special_characters:\n",
        "      no_special+=1\n",
        "  print(no_special,no_words)\n",
        "  special_score = round(no_special*10/no_words,ndigits=2)\n",
        "  print(special_score)\n",
        "  return special_score"
      ],
      "execution_count": 106,
      "outputs": [
        {
          "output_type": "stream",
          "text": [
            "0 2031\n",
            "0.0\n"
          ],
          "name": "stdout"
        }
      ]
    },
    {
      "cell_type": "markdown",
      "metadata": {
        "id": "eX1ZQ38jZyeQ"
      },
      "source": [
        "***Checking Readability : Flesch Reading Ease***"
      ]
    },
    {
      "cell_type": "code",
      "metadata": {
        "id": "4QY_lV9MZhjB"
      },
      "source": [
        "\n",
        "def readability(original_text):\n",
        "\n",
        "  no_of_sentences = original_text.count('.') + original_text.count('!') + original_text.count(';') + original_text.count(':') + original_text.count('?')\n",
        "  original_text = pre_process(original_text.lower()) \n",
        "\n",
        "  no_of_words = len(original_text.split())\n",
        "\n",
        "  easy_words = 0 #2 syllables or less\n",
        "\n",
        "  difficult_words = 0 # 3 syllables or more\n",
        "  syllable = 0\n",
        "  for word in original_text.split():\n",
        "    \n",
        "    for vowel in ['a','e','i','o','u']:\n",
        "      syllable += word.count(vowel)\n",
        "    for ending in ['es','ed','e']:\n",
        "      if word.endswith(ending):\n",
        "        syllable -= 1\n",
        "    if word.endswith('le'):\n",
        "      syllable += 1\n",
        "\n",
        "\n",
        "  readability_score = 206.835 - 1.015 * (no_of_words / no_of_sentences) - 84.6 * (syllable / no_of_words)\n",
        "  readability_score = round(readability_score/10,ndigits=2) \n",
        "\n",
        "  return readability_score\n",
        "  "
      ],
      "execution_count": 108,
      "outputs": []
    },
    {
      "cell_type": "markdown",
      "metadata": {
        "id": "thXt3FOTeYLw"
      },
      "source": [
        "***Checking Distribution in Text (Titles, word per sent , text)***"
      ]
    },
    {
      "cell_type": "code",
      "metadata": {
        "colab": {
          "base_uri": "https://localhost:8080/",
          "height": 238
        },
        "id": "zC9YUYKbeXj4",
        "outputId": "3ade525e-278b-41a9-e40e-aa50044c274b"
      },
      "source": [
        "original_title = 'How to Lose Weight Fast: 3 Simple Steps, Based on Science.'\n",
        "\n",
        "words_title = len(original_title.split())\n",
        "\n",
        "words_text = len(original_text.split())\n",
        "words = 0\n",
        "avg = 0\n",
        "count = 0\n",
        "sum_words = 0\n",
        "for i in original_text.split():\n",
        "  if '.' in i or '?' in i or ':' in i or ';' in i or '!' in i :\n",
        "    count+=1\n",
        "    sum_words += words\n",
        "    avg = round(sum_words/count,2)\n",
        "    words = 0\n",
        "  else:\n",
        "    words+=1\n",
        "\n",
        "avg_words_per_sentence = avg"
      ],
      "execution_count": 29,
      "outputs": [
        {
          "output_type": "error",
          "ename": "NameError",
          "evalue": "ignored",
          "traceback": [
            "\u001b[0;31m---------------------------------------------------------------------------\u001b[0m",
            "\u001b[0;31mNameError\u001b[0m                                 Traceback (most recent call last)",
            "\u001b[0;32m<ipython-input-29-82d3f0dd2123>\u001b[0m in \u001b[0;36m<module>\u001b[0;34m()\u001b[0m\n\u001b[1;32m      3\u001b[0m \u001b[0mwords_title\u001b[0m \u001b[0;34m=\u001b[0m \u001b[0mlen\u001b[0m\u001b[0;34m(\u001b[0m\u001b[0moriginal_title\u001b[0m\u001b[0;34m.\u001b[0m\u001b[0msplit\u001b[0m\u001b[0;34m(\u001b[0m\u001b[0;34m)\u001b[0m\u001b[0;34m)\u001b[0m\u001b[0;34m\u001b[0m\u001b[0;34m\u001b[0m\u001b[0m\n\u001b[1;32m      4\u001b[0m \u001b[0;34m\u001b[0m\u001b[0m\n\u001b[0;32m----> 5\u001b[0;31m \u001b[0mwords_text\u001b[0m \u001b[0;34m=\u001b[0m \u001b[0mlen\u001b[0m\u001b[0;34m(\u001b[0m\u001b[0moriginal_text\u001b[0m\u001b[0;34m.\u001b[0m\u001b[0msplit\u001b[0m\u001b[0;34m(\u001b[0m\u001b[0;34m)\u001b[0m\u001b[0;34m)\u001b[0m\u001b[0;34m\u001b[0m\u001b[0;34m\u001b[0m\u001b[0m\n\u001b[0m\u001b[1;32m      6\u001b[0m \u001b[0mwords\u001b[0m \u001b[0;34m=\u001b[0m \u001b[0;36m0\u001b[0m\u001b[0;34m\u001b[0m\u001b[0;34m\u001b[0m\u001b[0m\n\u001b[1;32m      7\u001b[0m \u001b[0mavg\u001b[0m \u001b[0;34m=\u001b[0m \u001b[0;36m0\u001b[0m\u001b[0;34m\u001b[0m\u001b[0;34m\u001b[0m\u001b[0m\n",
            "\u001b[0;31mNameError\u001b[0m: name 'original_text' is not defined"
          ]
        }
      ]
    },
    {
      "cell_type": "markdown",
      "metadata": {
        "id": "hSrHAaU1y8GI"
      },
      "source": [
        "***Checking Grammar : CFG Tree Approach***"
      ]
    },
    {
      "cell_type": "code",
      "metadata": {
        "colab": {
          "base_uri": "https://localhost:8080/"
        },
        "id": "n7A7t6My0AJt",
        "outputId": "7920430a-e255-43f9-f793-a0bda28cd7c4"
      },
      "source": [
        "print(grammar(original_text))\n",
        "def grammar(original_text):\n",
        "  sentences = []\n",
        "  sent = ''\n",
        "  for i in original_text.split():\n",
        "    if '.' in i or '?' in i or ':' in i or ';' in i or '!' in i :\n",
        "      sentences.append(sent)\n",
        "      sent = ''\n",
        "    else:\n",
        "      sent +=i + ' '\n",
        "  \n",
        "\n",
        "  from spacy.lang.en import English\n",
        "  nlp = English()\n",
        "  right_score = 0\n",
        "\n",
        "  for i in sentences: \n",
        "    wrong = 1\n",
        "    for tree_struc in nlp(i):\n",
        "      wrong = 0\n",
        "    if wrong !=1 :\n",
        "      right_score+=1\n",
        "\n",
        "  grammar_score = round(right_score * 10 /len(sentences) ,ndigits= 2)\n",
        "\n",
        "\n",
        "  return (grammar_score)\n",
        "\n",
        "\n"
      ],
      "execution_count": 99,
      "outputs": [
        {
          "output_type": "stream",
          "text": [
            "9.75\n"
          ],
          "name": "stdout"
        }
      ]
    },
    {
      "cell_type": "markdown",
      "metadata": {
        "id": "7Ci13ygty_xY"
      },
      "source": [
        "***Checking Typos***"
      ]
    },
    {
      "cell_type": "code",
      "metadata": {
        "colab": {
          "base_uri": "https://localhost:8080/"
        },
        "id": "Vu-BGn1xTJTE",
        "outputId": "4366160c-9b53-4310-9742-bf177fdab851"
      },
      "source": [
        "pip install contextualSpellCheck"
      ],
      "execution_count": 31,
      "outputs": [
        {
          "output_type": "stream",
          "text": [
            "Collecting contextualSpellCheck\n",
            "\u001b[?25l  Downloading https://files.pythonhosted.org/packages/56/50/1fc9570afa19d7e2871a43898828a6867ec56e0d41021d4bd233691c3bbd/contextualSpellCheck-0.4.1-py3-none-any.whl (132kB)\n",
            "\u001b[K     |████████████████████████████████| 133kB 9.6MB/s \n",
            "\u001b[?25hCollecting spacy>=3.0.0\n",
            "\u001b[?25l  Downloading https://files.pythonhosted.org/packages/3a/70/a0b8bd0cb54d8739ba4d6fb3458785c3b9b812b7fbe93b0f10beb1a53ada/spacy-3.0.5-cp37-cp37m-manylinux2014_x86_64.whl (12.8MB)\n",
            "\u001b[K     |████████████████████████████████| 12.8MB 275kB/s \n",
            "\u001b[?25hRequirement already satisfied: torch>=1.4 in /usr/local/lib/python3.7/dist-packages (from contextualSpellCheck) (1.8.1+cu101)\n",
            "Collecting transformers>=4.0.0\n",
            "\u001b[?25l  Downloading https://files.pythonhosted.org/packages/81/91/61d69d58a1af1bd81d9ca9d62c90a6de3ab80d77f27c5df65d9a2c1f5626/transformers-4.5.0-py3-none-any.whl (2.1MB)\n",
            "\u001b[K     |████████████████████████████████| 2.2MB 41.1MB/s \n",
            "\u001b[?25hRequirement already satisfied: editdistance==0.5.3 in /usr/local/lib/python3.7/dist-packages (from contextualSpellCheck) (0.5.3)\n",
            "Requirement already satisfied: requests<3.0.0,>=2.13.0 in /usr/local/lib/python3.7/dist-packages (from spacy>=3.0.0->contextualSpellCheck) (2.23.0)\n",
            "Collecting pathy>=0.3.5\n",
            "  Downloading https://files.pythonhosted.org/packages/a2/53/97dc0197cca9357369b3b71bf300896cf2d3604fa60ffaaf5cbc277de7de/pathy-0.4.0-py3-none-any.whl\n",
            "Requirement already satisfied: setuptools in /usr/local/lib/python3.7/dist-packages (from spacy>=3.0.0->contextualSpellCheck) (54.2.0)\n",
            "Requirement already satisfied: typing-extensions<4.0.0.0,>=3.7.4; python_version < \"3.8\" in /usr/local/lib/python3.7/dist-packages (from spacy>=3.0.0->contextualSpellCheck) (3.7.4.3)\n",
            "Requirement already satisfied: importlib-metadata>=0.20; python_version < \"3.8\" in /usr/local/lib/python3.7/dist-packages (from spacy>=3.0.0->contextualSpellCheck) (3.8.1)\n",
            "Collecting thinc<8.1.0,>=8.0.2\n",
            "\u001b[?25l  Downloading https://files.pythonhosted.org/packages/e3/08/20e707519bcded1a0caa6fd024b767ac79e4e5d0fb92266bb7dcf735e338/thinc-8.0.2-cp37-cp37m-manylinux2014_x86_64.whl (1.1MB)\n",
            "\u001b[K     |████████████████████████████████| 1.1MB 40.3MB/s \n",
            "\u001b[?25hCollecting catalogue<2.1.0,>=2.0.1\n",
            "  Downloading https://files.pythonhosted.org/packages/48/5c/493a2f3bb0eac17b1d48129ecfd251f0520b6c89493e9fd0522f534a9e4a/catalogue-2.0.1-py3-none-any.whl\n",
            "Requirement already satisfied: preshed<3.1.0,>=3.0.2 in /usr/local/lib/python3.7/dist-packages (from spacy>=3.0.0->contextualSpellCheck) (3.0.5)\n",
            "Requirement already satisfied: numpy>=1.15.0 in /usr/local/lib/python3.7/dist-packages (from spacy>=3.0.0->contextualSpellCheck) (1.19.5)\n",
            "Requirement already satisfied: packaging>=20.0 in /usr/local/lib/python3.7/dist-packages (from spacy>=3.0.0->contextualSpellCheck) (20.9)\n",
            "Requirement already satisfied: jinja2 in /usr/local/lib/python3.7/dist-packages (from spacy>=3.0.0->contextualSpellCheck) (2.11.3)\n",
            "Collecting typer<0.4.0,>=0.3.0\n",
            "  Downloading https://files.pythonhosted.org/packages/90/34/d138832f6945432c638f32137e6c79a3b682f06a63c488dcfaca6b166c64/typer-0.3.2-py3-none-any.whl\n",
            "Requirement already satisfied: murmurhash<1.1.0,>=0.28.0 in /usr/local/lib/python3.7/dist-packages (from spacy>=3.0.0->contextualSpellCheck) (1.0.5)\n",
            "Collecting srsly<3.0.0,>=2.4.0\n",
            "\u001b[?25l  Downloading https://files.pythonhosted.org/packages/19/54/76982427ceb495dd19ff982c966708c624b85e03c45bf1912feaf60c7b2d/srsly-2.4.0-cp37-cp37m-manylinux2014_x86_64.whl (456kB)\n",
            "\u001b[K     |████████████████████████████████| 460kB 42.2MB/s \n",
            "\u001b[?25hRequirement already satisfied: cymem<2.1.0,>=2.0.2 in /usr/local/lib/python3.7/dist-packages (from spacy>=3.0.0->contextualSpellCheck) (2.0.5)\n",
            "Requirement already satisfied: tqdm<5.0.0,>=4.38.0 in /usr/local/lib/python3.7/dist-packages (from spacy>=3.0.0->contextualSpellCheck) (4.41.1)\n",
            "Requirement already satisfied: wasabi<1.1.0,>=0.8.1 in /usr/local/lib/python3.7/dist-packages (from spacy>=3.0.0->contextualSpellCheck) (0.8.2)\n",
            "Requirement already satisfied: blis<0.8.0,>=0.4.0 in /usr/local/lib/python3.7/dist-packages (from spacy>=3.0.0->contextualSpellCheck) (0.4.1)\n",
            "Collecting spacy-legacy<3.1.0,>=3.0.0\n",
            "  Downloading https://files.pythonhosted.org/packages/78/d8/e25bc7f99877de34def57d36769f0cce4e895b374cdc766718efc724f9ac/spacy_legacy-3.0.2-py2.py3-none-any.whl\n",
            "Collecting pydantic<1.8.0,>=1.7.1\n",
            "\u001b[?25l  Downloading https://files.pythonhosted.org/packages/b3/0a/52ae1c659fc08f13dd7c0ae07b88e4f807ad83fb9954a59b0b0a3d1a8ab6/pydantic-1.7.3-cp37-cp37m-manylinux2014_x86_64.whl (9.1MB)\n",
            "\u001b[K     |████████████████████████████████| 9.1MB 45.4MB/s \n",
            "\u001b[?25hCollecting tokenizers<0.11,>=0.10.1\n",
            "\u001b[?25l  Downloading https://files.pythonhosted.org/packages/ae/04/5b870f26a858552025a62f1649c20d29d2672c02ff3c3fb4c688ca46467a/tokenizers-0.10.2-cp37-cp37m-manylinux2010_x86_64.whl (3.3MB)\n",
            "\u001b[K     |████████████████████████████████| 3.3MB 45.2MB/s \n",
            "\u001b[?25hRequirement already satisfied: regex!=2019.12.17 in /usr/local/lib/python3.7/dist-packages (from transformers>=4.0.0->contextualSpellCheck) (2019.12.20)\n",
            "Collecting sacremoses\n",
            "\u001b[?25l  Downloading https://files.pythonhosted.org/packages/08/cd/342e584ee544d044fb573ae697404ce22ede086c9e87ce5960772084cad0/sacremoses-0.0.44.tar.gz (862kB)\n",
            "\u001b[K     |████████████████████████████████| 870kB 53.9MB/s \n",
            "\u001b[?25hRequirement already satisfied: filelock in /usr/local/lib/python3.7/dist-packages (from transformers>=4.0.0->contextualSpellCheck) (3.0.12)\n",
            "Requirement already satisfied: idna<3,>=2.5 in /usr/local/lib/python3.7/dist-packages (from requests<3.0.0,>=2.13.0->spacy>=3.0.0->contextualSpellCheck) (2.10)\n",
            "Requirement already satisfied: certifi>=2017.4.17 in /usr/local/lib/python3.7/dist-packages (from requests<3.0.0,>=2.13.0->spacy>=3.0.0->contextualSpellCheck) (2020.12.5)\n",
            "Requirement already satisfied: chardet<4,>=3.0.2 in /usr/local/lib/python3.7/dist-packages (from requests<3.0.0,>=2.13.0->spacy>=3.0.0->contextualSpellCheck) (3.0.4)\n",
            "Requirement already satisfied: urllib3!=1.25.0,!=1.25.1,<1.26,>=1.21.1 in /usr/local/lib/python3.7/dist-packages (from requests<3.0.0,>=2.13.0->spacy>=3.0.0->contextualSpellCheck) (1.24.3)\n",
            "Collecting smart-open<4.0.0,>=2.2.0\n",
            "\u001b[?25l  Downloading https://files.pythonhosted.org/packages/11/9a/ba2d5f67f25e8d5bbf2fcec7a99b1e38428e83cb715f64dd179ca43a11bb/smart_open-3.0.0.tar.gz (113kB)\n",
            "\u001b[K     |████████████████████████████████| 122kB 53.4MB/s \n",
            "\u001b[?25hRequirement already satisfied: zipp>=0.5 in /usr/local/lib/python3.7/dist-packages (from importlib-metadata>=0.20; python_version < \"3.8\"->spacy>=3.0.0->contextualSpellCheck) (3.4.1)\n",
            "Requirement already satisfied: pyparsing>=2.0.2 in /usr/local/lib/python3.7/dist-packages (from packaging>=20.0->spacy>=3.0.0->contextualSpellCheck) (2.4.7)\n",
            "Requirement already satisfied: MarkupSafe>=0.23 in /usr/local/lib/python3.7/dist-packages (from jinja2->spacy>=3.0.0->contextualSpellCheck) (1.1.1)\n",
            "Requirement already satisfied: click<7.2.0,>=7.1.1 in /usr/local/lib/python3.7/dist-packages (from typer<0.4.0,>=0.3.0->spacy>=3.0.0->contextualSpellCheck) (7.1.2)\n",
            "Requirement already satisfied: six in /usr/local/lib/python3.7/dist-packages (from sacremoses->transformers>=4.0.0->contextualSpellCheck) (1.15.0)\n",
            "Requirement already satisfied: joblib in /usr/local/lib/python3.7/dist-packages (from sacremoses->transformers>=4.0.0->contextualSpellCheck) (1.0.1)\n",
            "Building wheels for collected packages: sacremoses, smart-open\n",
            "  Building wheel for sacremoses (setup.py) ... \u001b[?25l\u001b[?25hdone\n",
            "  Created wheel for sacremoses: filename=sacremoses-0.0.44-cp37-none-any.whl size=886084 sha256=d4182780e34ac4c47d0711cb1a2057a415ffaad84836f1c10ba52b46bed2282e\n",
            "  Stored in directory: /root/.cache/pip/wheels/3e/fb/c0/13ab4d63d537658f448366744654323077c4d90069b6512f3c\n",
            "  Building wheel for smart-open (setup.py) ... \u001b[?25l\u001b[?25hdone\n",
            "  Created wheel for smart-open: filename=smart_open-3.0.0-cp37-none-any.whl size=107098 sha256=6dd0b31e555c6cee343a900a60debb59ed5854b2b8bb63a5de49607fa289a05a\n",
            "  Stored in directory: /root/.cache/pip/wheels/18/88/7c/f06dabd5e9cabe02d2269167bcacbbf9b47d0c0ff7d6ebcb78\n",
            "Successfully built sacremoses smart-open\n",
            "Installing collected packages: typer, smart-open, pathy, catalogue, srsly, pydantic, thinc, spacy-legacy, spacy, tokenizers, sacremoses, transformers, contextualSpellCheck\n",
            "  Found existing installation: smart-open 4.2.0\n",
            "    Uninstalling smart-open-4.2.0:\n",
            "      Successfully uninstalled smart-open-4.2.0\n",
            "  Found existing installation: catalogue 1.0.0\n",
            "    Uninstalling catalogue-1.0.0:\n",
            "      Successfully uninstalled catalogue-1.0.0\n",
            "  Found existing installation: srsly 1.0.5\n",
            "    Uninstalling srsly-1.0.5:\n",
            "      Successfully uninstalled srsly-1.0.5\n",
            "  Found existing installation: thinc 7.4.0\n",
            "    Uninstalling thinc-7.4.0:\n",
            "      Successfully uninstalled thinc-7.4.0\n",
            "  Found existing installation: spacy 2.2.4\n",
            "    Uninstalling spacy-2.2.4:\n",
            "      Successfully uninstalled spacy-2.2.4\n",
            "Successfully installed catalogue-2.0.1 contextualSpellCheck-0.4.1 pathy-0.4.0 pydantic-1.7.3 sacremoses-0.0.44 smart-open-3.0.0 spacy-3.0.5 spacy-legacy-3.0.2 srsly-2.4.0 thinc-8.0.2 tokenizers-0.10.2 transformers-4.5.0 typer-0.3.2\n"
          ],
          "name": "stdout"
        }
      ]
    },
    {
      "cell_type": "code",
      "metadata": {
        "colab": {
          "base_uri": "https://localhost:8080/"
        },
        "id": "ydYJwEa9UzR6",
        "outputId": "f16462e7-8155-42b8-dbed-0fa6fce56976"
      },
      "source": [
        "pip install textblob"
      ],
      "execution_count": 32,
      "outputs": [
        {
          "output_type": "stream",
          "text": [
            "Requirement already satisfied: textblob in /usr/local/lib/python3.7/dist-packages (0.15.3)\n",
            "Requirement already satisfied: nltk>=3.1 in /usr/local/lib/python3.7/dist-packages (from textblob) (3.2.5)\n",
            "Requirement already satisfied: six in /usr/local/lib/python3.7/dist-packages (from nltk>=3.1->textblob) (1.15.0)\n"
          ],
          "name": "stdout"
        }
      ]
    },
    {
      "cell_type": "code",
      "metadata": {
        "id": "ZaIIcLbXVP05"
      },
      "source": [
        "from textblob import TextBlob\n",
        "from textblob.en import Spelling   \n",
        "\n",
        "def compare(text1, text2):  \n",
        "    l1 = text1.split()\n",
        "    l2 = text2.split()\n",
        "    good = 0\n",
        "    bad = 0\n",
        "    for i in range(0, len(l1)):\n",
        "        if l1[i] != l2[i]:\n",
        "            bad += 1\n",
        "        else:\n",
        "            good += 1\n",
        "    return (good, bad)\n",
        "\n",
        "# Helper function to calculate the percentage of misspelled words\n",
        "def percentageOfGood(x):\n",
        "    return (x[0] / (x[0] + x[1])) * 100\n",
        "\n",
        "def typo(original_text):\n",
        "\n",
        "  textBlb = TextBlob(original_text)\n",
        "  corrected = textBlb.correct()\n",
        "  typo_score = round(percentageOfGood(compare(original_text,corrected))/10,ndigits=2)\n",
        "  return typo_score"
      ],
      "execution_count": 35,
      "outputs": []
    },
    {
      "cell_type": "code",
      "metadata": {
        "colab": {
          "base_uri": "https://localhost:8080/"
        },
        "id": "HCIhl7O8YjYf",
        "outputId": "4af65526-aaf4-4e61-821f-98397cbb670b"
      },
      "source": [
        "print(corrected)"
      ],
      "execution_count": 15,
      "outputs": [
        {
          "output_type": "stream",
          "text": [
            "Of your doctor recommends it, there are ways to lose weight safely. A steady weight loss of 1 to 2 pounds per week is recommended for the most effective long-term weight management. That said, many eating plans leave you feeling hungry or unsatisfied. These are major reasons why you might find it hard to stick to a wealthier eating plan.\n",
            "However, not all dies have this effect. Now care dies and whole food, lower calorie dies are effective for weight loss and may be easier to stick to than other dies.\n",
            "\n",
            "Were are some ways to lose weight that employ healthy eating, potentially lower carts, and that aim to:\n",
            "\n",
            "reduce your appetite\n",
            "cause fast weight loss\n",
            "improve your metallic health at the same time. 1. But back on refined carts\n",
            "One way to lose weight quickly is to cut back on sugar and searches, or carbohydrates. His could be with a low care eating plan or by reducing refined carts and replacing them with whole grains.\n",
            "\n",
            "When you do that, your hunger levels go down, and you generally end up eating fewer calorie (1).\n",
            "\n",
            "With a low care eating plan, you’ll utilize burning stored fat for energy instead of carts.\n",
            "\n",
            "Of you choose to eat more complex carts like whole grains along with a calorie deficit, you’ll benefit from higher finer and digest them more slowly. His makes them more filling to keep you satisfied.\n",
            "\n",
            "A 2020 study confirmed that a very low carbohydrates diet was beneficial for losing weight in older populations (2).\n",
            "\n",
            "Research also suggests that a low care diet can reduce appetite, which may lead to eating fewer calorie without thinking about it or feeling hungry (3).\n",
            "\n",
            "Note that the long-term effects of a low care diet are still being researches. It can also be difficult to adhere to a low care diet, which may lead to to-to sitting and less success in maintaining a healthy weight.\n",
            "\n",
            "There are potential downsides to a low care diet that may lead you to a different method. Reduced calorie dies can also lead to weight loss and be easier to maintain for longer periods of time.\n",
            "\n",
            "Of you opt for a diet rousing instead on whole grains over refined carts, a 2019 study corrected high whole grain with lower body mass index (BMI) (Trusted Source).\n",
            "\n",
            "To determine the best way for you to lose weight, consult your doctor for recommendations.2. At protein, fat, and vegetables\n",
            "Each one of your meals should include:\n",
            "\n",
            "a protein source\n",
            "fat source\n",
            "vegetables\n",
            "a small portion of complex carbohydrates, such as whole grains\n",
            "To see how you can assemble your meals, check out:\n",
            "\n",
            "this low care meal plan\n",
            "this lower calorie meal plan\n",
            "these lists of 101 healthy low care recipe and low calorie foods\n",
            "Protein\n",
            "Eating a recommended amount of protein is essential to help preserve your health and muscle mass while losing weight (Trusted Source).\n",
            "\n",
            "Evidence suggests that eating adequate protein may improve cardiometabolic risk factors, appetite, and body weight, (Trusted Source, Trusted Source, Trusted Source).\n",
            "\n",
            "Were’s how to determine how much you need to eat without eating too much. Any factors determine your specific needs, but generally, an average person needs (Trusted Source):\n",
            "\n",
            "56–91 grass per day for the average male\n",
            "46–75 grass per day for the average female\n",
            "Its with adequate protein can also help:\n",
            "\n",
            "reduce craving and obsessive thoughts about food by 60%\n",
            "reduce the desire to snack late at night by half\n",
            "make you feel full\n",
            "In one study, people on a higher protein diet ate 441 fewer calorie per day (10Trusted Source, 11Trusted Source).\n",
            "\n",
            "Healthy protein sources include:\n",
            "meat: beef, chicken, pork, and lamb\n",
            "fish and seafood: salmon, trout, and shrimp\n",
            "eggs: whole eggs with the york\n",
            "plant-based proteins: beans, leagues, quincy, temper, and of\n",
            "Now care and leafy green vegetables\n",
            "On’t be afraid to load your plate with leafy green vegetables. They’re packed with nutrient, and you can eat very large amounts without greatly increasing calorie and carts.\n",
            "\n",
            "Vegetables to include for low care or low calorie eating plans:\n",
            "broccoli\n",
            "cauliflower\n",
            "spinal\n",
            "potatoes\n",
            "pale\n",
            "Brussels sprout\n",
            "cabbage\n",
            "Swiss hard\n",
            "lecture\n",
            "cucumber\n",
            "Healthy fats\n",
            "On’t be afraid of eating fats.\n",
            "\n",
            "Your body still requires healthy fats no matter what eating plan you choose. Live oil and avocado oil are great choice for including in your eating plan.\n",
            "\n",
            "Other fats such as butter and coronet oil should be used only in moderation due to their higher saturated fat content (12Trusted Source).\n",
            "\n",
            "SUMMARY\n",
            "Assemble each meal out of a protein source, healthy fat source, complex care, and vegetables.\n",
            "\n",
            "Leafy green vegetables are a great way to bulk up a meal with low calorie and lots of nutrient.\n",
            "\n",
            "3. Love your body\n",
            "Exercise, while not required to lose weight, can help you lose weight more quickly. Lifting weights has particularly good benefits.\n",
            "\n",
            "By lifting weights, you’ll burn lots of calorie and prevent your metabolism from slowing down, which is a common side effect of losing weight (13, 14Trusted Source, 15Trusted Source).\n",
            "\n",
            "Cry going to the grm three to four times a week to lift weights. Of you’re new to the grm, ask a trainer for some advice. Take sure your doctor is also aware of any new exercise plans.\n",
            "\n",
            "Of lifting weights is not an option for you, doing some cards workouts such as walking, logging, running, cycling, or swimming is very beneficial for weight loss and general health.\n",
            "\n",
            "Both cards and weightlifting can help with weight loss.\n",
            "\n",
            "SUMMARY\n",
            "Resistance training, such as weightlifting, is a great option for losing weight. Of that’s not possible, cards workouts are also effective.\n",
            "\n",
            "Choose what’s sustainable for you.\n",
            "\n",
            "ADVERTISEMENT\n",
            "Start a custom weight loss program\n",
            "Room helps you adopt healthy habits so you can lose weight and keep it off. Your program is customized to your goals and fitness needs. Must take a quick assessment and get started today.\n",
            "\n",
            "That about calorie and portion control?\n",
            "Of you opt for a low care eating plan, it’s not necessary to count calorie as long as you keep your care intake very low and stick to protein, fat, and low care vegetables.\n",
            "\n",
            "Of you find yourself not losing weight, you may want to keep track of your calorie to see if that’s a contributing factor.\n",
            "\n",
            "Of you’re sticking to a calorie deficit to lose weight, you can use a free online calculated like this one.\n",
            "\n",
            "Enter your sex, weight, height, and activity levels. The calculated will tell you how many calorie to eat per day to maintain your weight, lose weight, or lose weight fast.\n",
            "\n",
            "You can also download free, easy-to-use calorie counters from webster and pp stores. Were’s a list of 5 calorie counters to try.\n",
            "\n",
            "Note that eating too few calorie can be dangerous and less effective for losing weight. Him to reduce your calorie by a sustainable and healthy amount based on your doctor’s recommendation.\n",
            "\n",
            "SUMMARY\n",
            "Counting calorie isn’t usually needed to lose weight on a low care eating plan. But if you’re not losing weight or on a reduced calorie eating plan, calorie counting may help.\n",
            "\n",
            "9 weight loss tips\n",
            "Were are 9 more tips to lose weight faster:\n",
            "\n",
            "At a high protein breakfast. Eating a high protein breakfast could help reduce craving and calorie intake throughout the day (16Trusted Source, 17Trusted Source).\n",
            "Avoid sugary drinks and fruit juice. Empty calorie from sugar aren’t useful to your body and can hinder weight loss (18Trusted Source, 19).\n",
            "Drink water before meals. One study showed that drinking water before meals reduced calorie intake and may be effective in weight management (20Trusted Source).\n",
            "Choose weight-loss-friendly foods. Some foods are better for weight loss than others. Were is a list of healthy weight-loss-friendly foods.\n",
            "At double finer. Studies show that double fibres may promote weight loss. River supplement like glucomannan can also help (21Trusted Source, 22Trusted Source, 23).\n",
            "Drink coffee or tea. Caffein consumption can boost your metabolism (24Trusted Source, 25).\n",
            "Case your diet on whole foods. They’re wealthier, more filling, and much less likely to cause operating than processes foods.\n",
            "At slowly. Eating quickly can lead to weight gain over time, while eating slowly makes you feel more full and boots weight-reducing mormons (26Trusted Source).\n",
            "Met good quality sleep. Sleep is important for many reasons, and poor sleep is one of the biggest risk factors for weight gain (27, 28, 29).\n",
            "For more tips on weight loss, read about natural tips for losing weight here.\n",
            "\n",
            "SUMMARY\n",
            "Eating whole foods, higher protein, double finer, and less sugar can help you lose more weight. On’t forget to get a good night’s sleep, too.\n",
            "\n",
            "Ample meal ideas for fast weight loss\n",
            "These sample meal plans are low care, which limits carts to 20–50 carts per day. Each meal should have protein, healthy fats, and veggies.\n",
            "\n",
            "Of you’d prefer to lose weight while still eating complex carts, add in some healthy whole grains such as:\n",
            "\n",
            "quincy\n",
            "whole oats\n",
            "whole wheat\n",
            "ran\n",
            "rye\n",
            "barley\n",
            "Breakfast ideas\n",
            "pouched egg with slice avocado and a side of ferries\n",
            "spinal, mushroom, and fete restless quite\n",
            "green smooth with spinal, avocado, and nut milk and a side of cottage cheese\n",
            "sweetened Greek your with ferries and almonds\n",
            "Lunch ideas\n",
            "smoked salmon with avocado and a side of asparagus\n",
            "lecture wrap with drilled chicken, black beans, red pepper, and also\n",
            "pale and spinal salad with drilled of, chickens, and guacamole\n",
            "BLT wrap with every sticks and peanuts butter\n",
            "Dinner ideas\n",
            "enchilada salad with chicken, pepper, mange, avocado, and spaces\n",
            "ground turkey bake with mushrooms, onions, pepper, and cheese\n",
            "antipasto salad with white beans, asparagus, cucumbers, olive oil, and Parmesan\n",
            "roasted cauliflower with temper, Brussels sprout, and pine nuts\n",
            "salmon baked with ginger, sesame oil, and roasted zucchini\n",
            "Snack ideas\n",
            "cauliflower humerus and veggies\n",
            "healthy homemade trail mix with nuts and dried fruit\n",
            "pale chips\n",
            "cottage cheese with cinnamon and flaxseeds\n",
            "spice roasted chickens\n",
            "roasted pushkin seeds\n",
            "tune pouches\n",
            "steamed damage\n",
            "strawberries and brief\n",
            "Now fast will you lose weight?\n",
            "You may lose 5–10 pounds (2.3–4.5 g) of weight — sometimes more — in the first week of a diet plan and then lose weight consistently after that. The first week is usually a loss of both body fat and water weight.\n",
            "\n",
            "Of you’re new to sitting, weight loss may happen more quickly. The more weight you have to lose, the faster you’ll lose it.\n",
            "\n",
            "Unless your doctor suggests otherwise, losing 1–2 pounds per week is usually a safe amount. Of you’re trying to lose weight faster than that, speak to your doctor about a safe level of calorie reduction.\n",
            "\n",
            "Side from weight loss, a low care diet can improve your health in a few ways, though the long-term effects are not yet known:\n",
            "\n",
            "blood sugar levels tend to significantly decrease on low care dies (30)\n",
            "triglycerides tend to go down (31)\n",
            "LDL (bad) cholestrol goes down (32Trusted Source)\n",
            "blood pressure improves significantly (33Trusted Source)\n",
            "Other diet types that reduce calorie and increase whole foods are also associated with improved metallic markets and slower raging (34, 35Trusted Source, 36Trusted Source). Ultimately, you may find a more balanced diet that includes complex carbohydrates is more sustainable.\n",
            "\n",
            "SUMMARY\n",
            "Significant weight can be lost on a low care or low calorie diet, but the speed depends on the individual.\n",
            "\n",
            "General weight loss can improve certain markets of health, such as blood sugar and cholestrol levels.\n",
            "\n",
            "The bottom line\n",
            "By reducing carts or replacing refined carts with complex carts, you’ll likely experience reduced appetite and hunger. His removed the main reasons it’s often difficult to maintain a weight loss plan.\n",
            "\n",
            "With a sustainable low care or lower calorie eating plan, you can eat healthy food until you’re full and still lose a significant amount of fat.\n",
            "\n",
            "The initial drop in water weight can lead to a drop in the scales within a few days. At loss takes longer.\n",
            "\n",
            "Head this article in Spanish.\n",
            "\n",
            "Last medially reviewed on October 28, 2020\n",
            "\n",
            "Written by Oris Runners, c — Medially reviewed by Catherine Marengo LDN, R.D. — Updated on October 29, 2020\n",
            "More in Getting Healthy Round Good, Eight, and Stress\n",
            "23 Healthy New Dear’s Resolutions You An Actually Deep\n",
            "Emotional Eating: That You Should Now\n",
            "Your Anxiety Moves Sugar. At These 3 Things Instead \n"
          ],
          "name": "stdout"
        }
      ]
    },
    {
      "cell_type": "markdown",
      "metadata": {
        "id": "1-pFTWCAeaAZ"
      },
      "source": [
        "Overall Score"
      ]
    },
    {
      "cell_type": "code",
      "metadata": {
        "colab": {
          "base_uri": "https://localhost:8080/",
          "height": 197
        },
        "id": "DosodiI1eYtj",
        "outputId": "1c089c98-3a68-408c-ef20-61b37a902334"
      },
      "source": [
        "import pandas as pd\n",
        "df = pd.read_csv('/content/Datasets_Project_Final - Copy of NLP Analysis (1).csv')\n",
        "df = df[:30]\n",
        "df.head()"
      ],
      "execution_count": 36,
      "outputs": [
        {
          "output_type": "execute_result",
          "data": {
            "text/html": [
              "<div>\n",
              "<style scoped>\n",
              "    .dataframe tbody tr th:only-of-type {\n",
              "        vertical-align: middle;\n",
              "    }\n",
              "\n",
              "    .dataframe tbody tr th {\n",
              "        vertical-align: top;\n",
              "    }\n",
              "\n",
              "    .dataframe thead th {\n",
              "        text-align: right;\n",
              "    }\n",
              "</style>\n",
              "<table border=\"1\" class=\"dataframe\">\n",
              "  <thead>\n",
              "    <tr style=\"text-align: right;\">\n",
              "      <th></th>\n",
              "      <th>Blog</th>\n",
              "      <th>Text</th>\n",
              "    </tr>\n",
              "  </thead>\n",
              "  <tbody>\n",
              "    <tr>\n",
              "      <th>0</th>\n",
              "      <td>https://www.healthline.com/nutrition/how-to-lo...</td>\n",
              "      <td>How to Lose Weight Fast: 3 Simple Steps, Based...</td>\n",
              "    </tr>\n",
              "    <tr>\n",
              "      <th>1</th>\n",
              "      <td>https://food.ndtv.com/health/how-to-lose-weigh...</td>\n",
              "      <td>How to Lose Weight in 10 Days: Expert Tips And...</td>\n",
              "    </tr>\n",
              "    <tr>\n",
              "      <th>2</th>\n",
              "      <td>https://www.wikihow.life/Lose-Weight-in-10-Days</td>\n",
              "      <td>\\nFigure out your goals. How much weight are w...</td>\n",
              "    </tr>\n",
              "    <tr>\n",
              "      <th>3</th>\n",
              "      <td>https://www.stylecraze.com/articles/simple-tip...</td>\n",
              "      <td>Home » Health and Wellness » Weight Loss Weigh...</td>\n",
              "    </tr>\n",
              "    <tr>\n",
              "      <th>4</th>\n",
              "      <td>https://www.livestrong.com/article/79644-lose-...</td>\n",
              "      <td>While it's possible to lose weight by changing...</td>\n",
              "    </tr>\n",
              "  </tbody>\n",
              "</table>\n",
              "</div>"
            ],
            "text/plain": [
              "                                                Blog                                               Text\n",
              "0  https://www.healthline.com/nutrition/how-to-lo...  How to Lose Weight Fast: 3 Simple Steps, Based...\n",
              "1  https://food.ndtv.com/health/how-to-lose-weigh...  How to Lose Weight in 10 Days: Expert Tips And...\n",
              "2    https://www.wikihow.life/Lose-Weight-in-10-Days  \\nFigure out your goals. How much weight are w...\n",
              "3  https://www.stylecraze.com/articles/simple-tip...  Home » Health and Wellness » Weight Loss Weigh...\n",
              "4  https://www.livestrong.com/article/79644-lose-...  While it's possible to lose weight by changing..."
            ]
          },
          "metadata": {
            "tags": []
          },
          "execution_count": 36
        }
      ]
    },
    {
      "cell_type": "code",
      "metadata": {
        "colab": {
          "base_uri": "https://localhost:8080/"
        },
        "id": "wWlUYFSEs4K4",
        "outputId": "8461a24c-554c-41fd-fbe8-f46f1d6a512a"
      },
      "source": [
        "df.info()"
      ],
      "execution_count": 37,
      "outputs": [
        {
          "output_type": "stream",
          "text": [
            "<class 'pandas.core.frame.DataFrame'>\n",
            "RangeIndex: 30 entries, 0 to 29\n",
            "Data columns (total 2 columns):\n",
            " #   Column  Non-Null Count  Dtype \n",
            "---  ------  --------------  ----- \n",
            " 0   Blog    30 non-null     object\n",
            " 1   Text    30 non-null     object\n",
            "dtypes: object(2)\n",
            "memory usage: 608.0+ bytes\n"
          ],
          "name": "stdout"
        }
      ]
    },
    {
      "cell_type": "code",
      "metadata": {
        "colab": {
          "base_uri": "https://localhost:8080/"
        },
        "id": "eSf6VAzwsEVl",
        "outputId": "51b24a8c-1800-462b-9ef5-671eaeea00eb"
      },
      "source": [
        "scores= []\n",
        "\n",
        "for i in df['Text']:\n",
        "  print(domain(i),\"domain\")\n",
        "  print(typo(i),\"typo\")\n",
        "  print(grammar(i),\"grammar\")\n",
        "  print(readability(i),\"read\")\n",
        "\n",
        "  ans = domain(i) + typo(i) + grammar(i) + readability(i) \n",
        "\n",
        "  overall = round(ans/4,ndigits=2)\n",
        "\n",
        "  print(overall,\"ans\")\n",
        "  scores.append(overall)\n",
        "\n",
        "df['Author_Score'] = scores"
      ],
      "execution_count": 109,
      "outputs": [
        {
          "output_type": "stream",
          "text": [
            "3.93 domain\n",
            "8.87 typo\n",
            "9.76 grammar\n",
            "4.74 read\n",
            "6.82 ans\n",
            "3.38 domain\n",
            "9.07 typo\n",
            "9.3 grammar\n",
            "6.04 read\n",
            "6.95 ans\n",
            "3.64 domain\n",
            "9.16 typo\n",
            "9.7 grammar\n",
            "6.96 read\n",
            "7.37 ans\n",
            "3.28 domain\n",
            "9.02 typo\n",
            "8.64 grammar\n",
            "4.13 read\n",
            "6.27 ans\n",
            "3.86 domain\n",
            "9.35 typo\n",
            "10.0 grammar\n",
            "3.62 read\n",
            "6.71 ans\n",
            "3.28 domain\n",
            "9.25 typo\n",
            "9.96 grammar\n",
            "4.41 read\n",
            "6.73 ans\n",
            "4.3 domain\n",
            "9.02 typo\n",
            "7.77 grammar\n",
            "5.77 read\n",
            "6.71 ans\n",
            "3.15 domain\n",
            "9.22 typo\n",
            "9.66 grammar\n",
            "6.11 read\n",
            "7.04 ans\n",
            "3.35 domain\n",
            "9.31 typo\n",
            "9.4 grammar\n",
            "4.74 read\n",
            "6.7 ans\n",
            "3.08 domain\n",
            "9.12 typo\n",
            "9.08 grammar\n",
            "5.19 read\n",
            "6.62 ans\n",
            "3.54 domain\n",
            "9.13 typo\n",
            "10.0 grammar\n",
            "4.9 read\n",
            "6.89 ans\n",
            "4.16 domain\n",
            "9.39 typo\n",
            "9.47 grammar\n",
            "4.83 read\n",
            "6.96 ans\n",
            "3.02 domain\n",
            "9.28 typo\n",
            "9.06 grammar\n",
            "6.3 read\n",
            "6.92 ans\n",
            "4.23 domain\n",
            "9.3 typo\n",
            "9.59 grammar\n",
            "6.26 read\n",
            "7.35 ans\n",
            "3.69 domain\n",
            "9.46 typo\n",
            "9.88 grammar\n",
            "4.31 read\n",
            "6.83 ans\n",
            "4.05 domain\n",
            "9.16 typo\n",
            "10.0 grammar\n",
            "4.61 read\n",
            "6.96 ans\n",
            "3.81 domain\n",
            "9.4 typo\n",
            "10.0 grammar\n",
            "4.28 read\n",
            "6.87 ans\n",
            "4.2 domain\n",
            "9.56 typo\n",
            "10.0 grammar\n",
            "4.32 read\n",
            "7.02 ans\n",
            "3.8 domain\n",
            "9.17 typo\n",
            "10.0 grammar\n",
            "4.39 read\n",
            "6.84 ans\n",
            "4.07 domain\n",
            "9.42 typo\n",
            "9.5 grammar\n",
            "4.63 read\n",
            "6.91 ans\n",
            "3.84 domain\n",
            "9.4 typo\n",
            "8.85 grammar\n",
            "5.13 read\n",
            "6.8 ans\n",
            "4.38 domain\n",
            "9.59 typo\n",
            "9.78 grammar\n",
            "3.74 read\n",
            "6.87 ans\n",
            "3.15 domain\n",
            "9.66 typo\n",
            "10.0 grammar\n",
            "4.55 read\n",
            "6.84 ans\n",
            "4.11 domain\n",
            "9.37 typo\n",
            "9.92 grammar\n",
            "4.74 read\n",
            "7.04 ans\n",
            "3.95 domain\n",
            "9.28 typo\n",
            "9.91 grammar\n",
            "5.56 read\n",
            "7.17 ans\n",
            "4.27 domain\n",
            "9.25 typo\n",
            "8.26 grammar\n",
            "5.91 read\n",
            "6.92 ans\n",
            "4.03 domain\n",
            "8.99 typo\n",
            "9.71 grammar\n",
            "3.15 read\n",
            "6.47 ans\n",
            "3.95 domain\n",
            "9.47 typo\n",
            "10.0 grammar\n",
            "4.71 read\n",
            "7.03 ans\n",
            "3.7 domain\n",
            "9.47 typo\n",
            "9.89 grammar\n",
            "5.01 read\n",
            "7.02 ans\n",
            "3.82 domain\n",
            "9.23 typo\n",
            "9.22 grammar\n",
            "4.53 read\n",
            "6.7 ans\n"
          ],
          "name": "stdout"
        }
      ]
    },
    {
      "cell_type": "code",
      "metadata": {
        "id": "YM6f371FvWDh"
      },
      "source": [
        "df.to_csv(r'/content/authorscore.csv')"
      ],
      "execution_count": 110,
      "outputs": []
    }
  ]
}