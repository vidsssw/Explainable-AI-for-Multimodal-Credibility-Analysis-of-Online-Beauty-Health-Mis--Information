{
  "nbformat": 4,
  "nbformat_minor": 0,
  "metadata": {
    "kernelspec": {
      "display_name": "Python 3",
      "language": "python",
      "name": "python3"
    },
    "language_info": {
      "codemirror_mode": {
        "name": "ipython",
        "version": 3
      },
      "file_extension": ".py",
      "mimetype": "text/x-python",
      "name": "python",
      "nbconvert_exporter": "python",
      "pygments_lexer": "ipython3",
      "version": "3.7.6"
    },
    "papermill": {
      "duration": 11.8432,
      "end_time": "2020-10-01T00:23:34.099255",
      "environment_variables": {},
      "exception": null,
      "input_path": "__notebook__.ipynb",
      "output_path": "__notebook__.ipynb",
      "parameters": {},
      "start_time": "2020-10-01T00:23:22.256055",
      "version": "2.1.0"
    },
    "colab": {
      "name": "XAI-Shapley.ipynb",
      "provenance": [],
      "toc_visible": true
    }
  },
  "cells": [
    {
      "cell_type": "code",
      "metadata": {
        "execution": {
          "iopub.execute_input": "2020-10-01T00:23:27.549243Z",
          "iopub.status.busy": "2020-10-01T00:23:27.548433Z",
          "iopub.status.idle": "2020-10-01T00:23:29.199109Z",
          "shell.execute_reply": "2020-10-01T00:23:29.199688Z"
        },
        "papermill": {
          "duration": 1.670741,
          "end_time": "2020-10-01T00:23:29.199901",
          "exception": false,
          "start_time": "2020-10-01T00:23:27.529160",
          "status": "completed"
        },
        "tags": [],
        "id": "MlpiSXUFJ8Ua"
      },
      "source": [
        "import numpy as np\n",
        "import pandas as pd\n",
        "from sklearn.model_selection import train_test_split\n",
        "from sklearn.ensemble import RandomForestClassifier\n",
        "\n",
        "data = pd.read_csv('/content/Datasets_Project_Final - Final_sheet_Demo (1).csv')\n",
        "\n",
        "y = data.iloc[:,-1].values\n",
        "feature_names = [i for i in data.columns]\n",
        "X = data.iloc[:,:-2]\n",
        "train_X, val_X, train_y, val_y = train_test_split(X, y, random_state=1)\n",
        "my_model = RandomForestClassifier(random_state=0).fit(train_X, train_y)"
      ],
      "execution_count": 1,
      "outputs": []
    },
    {
      "cell_type": "code",
      "metadata": {
        "colab": {
          "base_uri": "https://localhost:8080/",
          "height": 202
        },
        "id": "mq63GpnzCeex",
        "outputId": "c369cf37-69d7-43a2-fea1-3a4c1928e9fa"
      },
      "source": [
        "  val_X"
      ],
      "execution_count": 2,
      "outputs": [
        {
          "output_type": "execute_result",
          "data": {
            "text/html": [
              "<div>\n",
              "<style scoped>\n",
              "    .dataframe tbody tr th:only-of-type {\n",
              "        vertical-align: middle;\n",
              "    }\n",
              "\n",
              "    .dataframe tbody tr th {\n",
              "        vertical-align: top;\n",
              "    }\n",
              "\n",
              "    .dataframe thead th {\n",
              "        text-align: right;\n",
              "    }\n",
              "</style>\n",
              "<table border=\"1\" class=\"dataframe\">\n",
              "  <thead>\n",
              "    <tr style=\"text-align: right;\">\n",
              "      <th></th>\n",
              "      <th>Website_Score</th>\n",
              "      <th>Page_rank_score</th>\n",
              "      <th>Author_Score</th>\n",
              "      <th>Image_Quality_Score</th>\n",
              "      <th>Image_spam_score</th>\n",
              "    </tr>\n",
              "  </thead>\n",
              "  <tbody>\n",
              "    <tr>\n",
              "      <th>3</th>\n",
              "      <td>5.079153</td>\n",
              "      <td>0.000384</td>\n",
              "      <td>6.27</td>\n",
              "      <td>2.45</td>\n",
              "      <td>1.789277</td>\n",
              "    </tr>\n",
              "    <tr>\n",
              "      <th>16</th>\n",
              "      <td>4.861441</td>\n",
              "      <td>3.303095</td>\n",
              "      <td>6.87</td>\n",
              "      <td>6.85</td>\n",
              "      <td>0.180323</td>\n",
              "    </tr>\n",
              "    <tr>\n",
              "      <th>6</th>\n",
              "      <td>4.922899</td>\n",
              "      <td>3.001645</td>\n",
              "      <td>6.71</td>\n",
              "      <td>4.69</td>\n",
              "      <td>2.282385</td>\n",
              "    </tr>\n",
              "    <tr>\n",
              "      <th>10</th>\n",
              "      <td>7.529947</td>\n",
              "      <td>5.999872</td>\n",
              "      <td>6.89</td>\n",
              "      <td>7.05</td>\n",
              "      <td>8.683398</td>\n",
              "    </tr>\n",
              "    <tr>\n",
              "      <th>2</th>\n",
              "      <td>3.340870</td>\n",
              "      <td>0.000000</td>\n",
              "      <td>7.37</td>\n",
              "      <td>3.34</td>\n",
              "      <td>5.362663</td>\n",
              "    </tr>\n",
              "  </tbody>\n",
              "</table>\n",
              "</div>"
            ],
            "text/plain": [
              "    Website_Score   Page_rank_score   ...  Image_Quality_Score  Image_spam_score\n",
              "3         5.079153          0.000384  ...                 2.45          1.789277\n",
              "16        4.861441          3.303095  ...                 6.85          0.180323\n",
              "6         4.922899          3.001645  ...                 4.69          2.282385\n",
              "10        7.529947          5.999872  ...                 7.05          8.683398\n",
              "2         3.340870          0.000000  ...                 3.34          5.362663\n",
              "\n",
              "[5 rows x 5 columns]"
            ]
          },
          "metadata": {
            "tags": []
          },
          "execution_count": 2
        }
      ]
    },
    {
      "cell_type": "code",
      "metadata": {
        "execution": {
          "iopub.execute_input": "2020-10-01T00:23:29.260288Z",
          "iopub.status.busy": "2020-10-01T00:23:29.259233Z",
          "iopub.status.idle": "2020-10-01T00:23:29.265070Z",
          "shell.execute_reply": "2020-10-01T00:23:29.265651Z"
        },
        "papermill": {
          "duration": 0.037399,
          "end_time": "2020-10-01T00:23:29.265799",
          "exception": false,
          "start_time": "2020-10-01T00:23:29.228400",
          "status": "completed"
        },
        "tags": [],
        "colab": {
          "base_uri": "https://localhost:8080/"
        },
        "id": "-j7L8w6NJ8Ue",
        "outputId": "9ccd1963-72b4-4104-8a21-7a33c9fb6065"
      },
      "source": [
        "#row_to_show = 5\n",
        "data_for_prediction = val_X.iloc[1]  # use 1 row of data here. Could use multiple rows if desired\n",
        "data_for_prediction_array = data_for_prediction.values.reshape(1, -1)\n",
        "\n",
        "\n",
        "my_model.predict_proba(data_for_prediction_array)"
      ],
      "execution_count": 3,
      "outputs": [
        {
          "output_type": "execute_result",
          "data": {
            "text/plain": [
              "array([[0.81, 0.19]])"
            ]
          },
          "metadata": {
            "tags": []
          },
          "execution_count": 3
        }
      ]
    },
    {
      "cell_type": "code",
      "metadata": {
        "execution": {
          "iopub.execute_input": "2020-10-01T00:23:29.320605Z",
          "iopub.status.busy": "2020-10-01T00:23:29.319496Z",
          "iopub.status.idle": "2020-10-01T00:23:31.103085Z",
          "shell.execute_reply": "2020-10-01T00:23:31.102173Z"
        },
        "papermill": {
          "duration": 1.805805,
          "end_time": "2020-10-01T00:23:31.103248",
          "exception": false,
          "start_time": "2020-10-01T00:23:29.297443",
          "status": "completed"
        },
        "tags": [],
        "colab": {
          "base_uri": "https://localhost:8080/"
        },
        "id": "-TCavNxAJ8Ui",
        "outputId": "5d49a858-11de-4b3d-c8b5-502a39ba5b53"
      },
      "source": [
        "!pip install shap\n",
        "import shap  # package used to calculate Shap values\n",
        "\n",
        "# Create object that can calculate shap values\n",
        "explainer = shap.TreeExplainer(my_model)\n",
        "\n",
        "# Calculate Shap values\n",
        "shap_values = explainer.shap_values(data_for_prediction)"
      ],
      "execution_count": 4,
      "outputs": [
        {
          "output_type": "stream",
          "text": [
            "Requirement already satisfied: shap in /usr/local/lib/python3.7/dist-packages (0.39.0)\n",
            "Requirement already satisfied: scikit-learn in /usr/local/lib/python3.7/dist-packages (from shap) (0.22.2.post1)\n",
            "Requirement already satisfied: numpy in /usr/local/lib/python3.7/dist-packages (from shap) (1.19.5)\n",
            "Requirement already satisfied: scipy in /usr/local/lib/python3.7/dist-packages (from shap) (1.4.1)\n",
            "Requirement already satisfied: pandas in /usr/local/lib/python3.7/dist-packages (from shap) (1.1.5)\n",
            "Requirement already satisfied: tqdm>4.25.0 in /usr/local/lib/python3.7/dist-packages (from shap) (4.41.1)\n",
            "Requirement already satisfied: cloudpickle in /usr/local/lib/python3.7/dist-packages (from shap) (1.3.0)\n",
            "Requirement already satisfied: numba in /usr/local/lib/python3.7/dist-packages (from shap) (0.51.2)\n",
            "Requirement already satisfied: slicer==0.0.7 in /usr/local/lib/python3.7/dist-packages (from shap) (0.0.7)\n",
            "Requirement already satisfied: joblib>=0.11 in /usr/local/lib/python3.7/dist-packages (from scikit-learn->shap) (1.0.1)\n",
            "Requirement already satisfied: pytz>=2017.2 in /usr/local/lib/python3.7/dist-packages (from pandas->shap) (2018.9)\n",
            "Requirement already satisfied: python-dateutil>=2.7.3 in /usr/local/lib/python3.7/dist-packages (from pandas->shap) (2.8.1)\n",
            "Requirement already satisfied: llvmlite<0.35,>=0.34.0.dev0 in /usr/local/lib/python3.7/dist-packages (from numba->shap) (0.34.0)\n",
            "Requirement already satisfied: setuptools in /usr/local/lib/python3.7/dist-packages (from numba->shap) (54.2.0)\n",
            "Requirement already satisfied: six>=1.5 in /usr/local/lib/python3.7/dist-packages (from python-dateutil>=2.7.3->pandas->shap) (1.15.0)\n"
          ],
          "name": "stdout"
        }
      ]
    },
    {
      "cell_type": "markdown",
      "metadata": {
        "id": "rjoSry6XKrD1"
      },
      "source": [
        "##OBSERVATION 1\n"
      ]
    },
    {
      "cell_type": "markdown",
      "metadata": {
        "id": "03r8rROzKV-N"
      },
      "source": [
        "###Tree explainer\n",
        "\n",
        "\n"
      ]
    },
    {
      "cell_type": "code",
      "metadata": {
        "execution": {
          "iopub.execute_input": "2020-10-01T00:23:31.153318Z",
          "iopub.status.busy": "2020-10-01T00:23:31.152506Z",
          "iopub.status.idle": "2020-10-01T00:23:31.199419Z",
          "shell.execute_reply": "2020-10-01T00:23:31.198776Z"
        },
        "papermill": {
          "duration": 0.062079,
          "end_time": "2020-10-01T00:23:31.199547",
          "exception": false,
          "start_time": "2020-10-01T00:23:31.137468",
          "status": "completed"
        },
        "tags": [],
        "id": "9phzXlQ3J8Uk"
      },
      "source": [
        "shap.initjs()\n",
        "shap.force_plot(explainer.expected_value[1], shap_values[1], data_for_prediction)"
      ],
      "execution_count": null,
      "outputs": []
    },
    {
      "cell_type": "markdown",
      "metadata": {
        "id": "b9qEl26cKdPh"
      },
      "source": [
        "###KernaL Explainer\n",
        "\n"
      ]
    },
    {
      "cell_type": "code",
      "metadata": {
        "id": "YUDGKx4VIML6"
      },
      "source": [
        "shap.initjs()\n",
        "k_explainer = shap.KernelExplainer(my_model.predict_proba, train_X)\n",
        "k_shap_values = k_explainer.shap_values(data_for_prediction)\n",
        "shap.force_plot(k_explainer.expected_value[1], k_shap_values[1], data_for_prediction)"
      ],
      "execution_count": null,
      "outputs": []
    },
    {
      "cell_type": "markdown",
      "metadata": {
        "id": "B5kadgpLE_WH"
      },
      "source": [
        "##Observation 2\n"
      ]
    },
    {
      "cell_type": "code",
      "metadata": {
        "id": "c31o3AG_FB9L"
      },
      "source": [
        "#row_to_show = 5\n",
        "data_for_prediction1 = val_X.iloc[3]  # use 1 row of data here. Could use multiple rows if desired\n",
        "data_for_prediction_array1 = data_for_prediction1.values.reshape(1, -1)\n",
        "\n",
        "\n",
        "my_model.predict_proba(data_for_prediction_array1)"
      ],
      "execution_count": null,
      "outputs": []
    },
    {
      "cell_type": "code",
      "metadata": {
        "id": "tbwRSU2EFL_D"
      },
      "source": [
        "explainer = shap.TreeExplainer(my_model)\n",
        "\n",
        "# Calculate Shap values\n",
        "shap_values1 = explainer.shap_values(data_for_prediction1)"
      ],
      "execution_count": null,
      "outputs": []
    },
    {
      "cell_type": "code",
      "metadata": {
        "id": "1otb-Og0K6rR"
      },
      "source": [
        ""
      ],
      "execution_count": null,
      "outputs": []
    },
    {
      "cell_type": "markdown",
      "metadata": {
        "id": "xNxoHPlOK70y"
      },
      "source": [
        "###Tree Explainer\n"
      ]
    },
    {
      "cell_type": "code",
      "metadata": {
        "id": "HAUhP-RSFsZ6"
      },
      "source": [
        "shap.initjs()\n",
        "shap.force_plot(explainer.expected_value[1], shap_values1[1], data_for_prediction1)"
      ],
      "execution_count": null,
      "outputs": []
    },
    {
      "cell_type": "markdown",
      "metadata": {
        "id": "v0F7t1qNLC8J"
      },
      "source": [
        "###Kernal Explainer\n"
      ]
    },
    {
      "cell_type": "code",
      "metadata": {
        "id": "DjWWe6YvI3If"
      },
      "source": [
        "shap.initjs()\n",
        "k_explainer = shap.KernelExplainer(my_model.predict_proba, train_X)\n",
        "k_shap_values1 = k_explainer.shap_values(data_for_prediction1)\n",
        "shap.force_plot(k_explainer.expected_value[1], k_shap_values1[1], data_for_prediction1)"
      ],
      "execution_count": null,
      "outputs": []
    }
  ]
}